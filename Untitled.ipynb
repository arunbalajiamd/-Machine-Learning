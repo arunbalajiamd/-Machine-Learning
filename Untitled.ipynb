{
 "cells": [
  {
   "cell_type": "code",
   "execution_count": 4,
   "id": "1fcd3e99",
   "metadata": {},
   "outputs": [],
   "source": [
    "import pandas as pd\n"
   ]
  },
  {
   "cell_type": "code",
   "execution_count": 3,
   "id": "15c2d984",
   "metadata": {},
   "outputs": [
    {
     "name": "stdout",
     "output_type": "stream",
     "text": [
      "       LYLTY_CARD_NBR               LIFESTAGE PREMIUM_CUSTOMER\n",
      "0                1000   YOUNG SINGLES/COUPLES          Premium\n",
      "1                1002   YOUNG SINGLES/COUPLES       Mainstream\n",
      "2                1003          YOUNG FAMILIES           Budget\n",
      "3                1004   OLDER SINGLES/COUPLES       Mainstream\n",
      "4                1005  MIDAGE SINGLES/COUPLES       Mainstream\n",
      "...               ...                     ...              ...\n",
      "72632         2370651  MIDAGE SINGLES/COUPLES       Mainstream\n",
      "72633         2370701          YOUNG FAMILIES       Mainstream\n",
      "72634         2370751          YOUNG FAMILIES          Premium\n",
      "72635         2370961          OLDER FAMILIES           Budget\n",
      "72636         2373711   YOUNG SINGLES/COUPLES       Mainstream\n",
      "\n",
      "[72637 rows x 3 columns]\n"
     ]
    }
   ],
   "source": [
    "df=pd.read_csv('QVI_purchase_behaviour.csv')\n",
    "print(df)"
   ]
  },
  {
   "cell_type": "code",
   "execution_count": 5,
   "id": "baa78704",
   "metadata": {},
   "outputs": [],
   "source": [
    "df=pd.read_excel('QVI_transaction_data.xlsx')"
   ]
  },
  {
   "cell_type": "code",
   "execution_count": 4,
   "id": "598f71c5",
   "metadata": {},
   "outputs": [
    {
     "name": "stdout",
     "output_type": "stream",
     "text": [
      "         DATE  STORE_NBR  LYLTY_CARD_NBR  TXN_ID  PROD_NBR  \\\n",
      "0       43390          1            1000       1         5   \n",
      "1       43599          1            1307     348        66   \n",
      "2       43605          1            1343     383        61   \n",
      "3       43329          2            2373     974        69   \n",
      "4       43330          2            2426    1038       108   \n",
      "...       ...        ...             ...     ...       ...   \n",
      "264831  43533        272          272319  270088        89   \n",
      "264832  43325        272          272358  270154        74   \n",
      "264833  43410        272          272379  270187        51   \n",
      "264834  43461        272          272379  270188        42   \n",
      "264835  43365        272          272380  270189        74   \n",
      "\n",
      "                                       PROD_NAME  PROD_QTY  TOT_SALES  \n",
      "0         Natural Chip        Compny SeaSalt175g         2        6.0  \n",
      "1                       CCs Nacho Cheese    175g         3        6.3  \n",
      "2         Smiths Crinkle Cut  Chips Chicken 170g         2        2.9  \n",
      "3         Smiths Chip Thinly  S/Cream&Onion 175g         5       15.0  \n",
      "4       Kettle Tortilla ChpsHny&Jlpno Chili 150g         3       13.8  \n",
      "...                                          ...       ...        ...  \n",
      "264831   Kettle Sweet Chilli And Sour Cream 175g         2       10.8  \n",
      "264832             Tostitos Splash Of  Lime 175g         1        4.4  \n",
      "264833                  Doritos Mexicana    170g         2        8.8  \n",
      "264834   Doritos Corn Chip Mexican Jalapeno 150g         2        7.8  \n",
      "264835             Tostitos Splash Of  Lime 175g         2        8.8  \n",
      "\n",
      "[264836 rows x 8 columns]\n"
     ]
    }
   ],
   "source": [
    "print(df)"
   ]
  },
  {
   "cell_type": "code",
   "execution_count": null,
   "id": "0628f6c4",
   "metadata": {},
   "outputs": [],
   "source": []
  }
 ],
 "metadata": {
  "kernelspec": {
   "display_name": "Python 3 (ipykernel)",
   "language": "python",
   "name": "python3"
  },
  "language_info": {
   "codemirror_mode": {
    "name": "ipython",
    "version": 3
   },
   "file_extension": ".py",
   "mimetype": "text/x-python",
   "name": "python",
   "nbconvert_exporter": "python",
   "pygments_lexer": "ipython3",
   "version": "3.11.5"
  }
 },
 "nbformat": 4,
 "nbformat_minor": 5
}
